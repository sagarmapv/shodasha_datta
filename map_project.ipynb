{
 "cells": [
  {
   "cell_type": "code",
   "execution_count": 53,
   "metadata": {},
   "outputs": [],
   "source": [
    "import folium\n",
    "import pandas\n",
    "\n",
    "shodasha_df = pandas.read_csv(\"map_locations.txt\")\n",
    "shodasha_df.set_index(\"NO\")\n",
    "#print(shodasha_df)\n",
    "lat = shodasha_df[\"Latitude\"]\n",
    "lon = shodasha_df[\"Longitude\"]\n",
    "name_d = shodasha_df[\"Datta_Name\"]\n",
    "town_n = shodasha_df[\"Town\"]\n",
    "\n",
    "map = folium.Map(location=[20,78], zoom_start=6)\n",
    "\n",
    "\n",
    "fg = folium.FeatureGroup(\"Datta_map\")\n",
    "for lt, ln, nm, tn in zip(lat, lon, name_d, town_n):\n",
    "    pop_txt = nm + ',' + tn \n",
    "    fg.add_child(folium.Marker(location=[lt, ln], popup=pop_txt,icon=folium.Icon(color=\"orange\")))\n",
    "\n",
    "map.add_child(fg)\n",
    "\n",
    "\n",
    "map.save(\"initial_map.html\")"
   ]
  },
  {
   "cell_type": "code",
   "execution_count": null,
   "metadata": {},
   "outputs": [],
   "source": []
  }
 ],
 "metadata": {
  "interpreter": {
   "hash": "2be5faf79681da6f2a61fdfdd5405d65d042280f7fba6178067603e3a2925119"
  },
  "kernelspec": {
   "display_name": "Python 3.10.0 64-bit",
   "language": "python",
   "name": "python3"
  },
  "language_info": {
   "codemirror_mode": {
    "name": "ipython",
    "version": 3
   },
   "file_extension": ".py",
   "mimetype": "text/x-python",
   "name": "python",
   "nbconvert_exporter": "python",
   "pygments_lexer": "ipython3",
   "version": "3.10.0"
  },
  "orig_nbformat": 4
 },
 "nbformat": 4,
 "nbformat_minor": 2
}
